{
  "nbformat": 4,
  "nbformat_minor": 0,
  "metadata": {
    "colab": {
      "provenance": [],
      "authorship_tag": "ABX9TyOmHci1isqslTrLe7kygdfE",
      "include_colab_link": true
    },
    "kernelspec": {
      "name": "python3",
      "display_name": "Python 3"
    },
    "language_info": {
      "name": "python"
    }
  },
  "cells": [
    {
      "cell_type": "markdown",
      "metadata": {
        "id": "view-in-github",
        "colab_type": "text"
      },
      "source": [
        "<a href=\"https://colab.research.google.com/github/blenature/Computer_Vision/blob/master/Image_processing_with_homography_and_transform.ipynb\" target=\"_parent\"><img src=\"https://colab.research.google.com/assets/colab-badge.svg\" alt=\"Open In Colab\"/></a>"
      ]
    },
    {
      "cell_type": "code",
      "execution_count": null,
      "metadata": {
        "id": "K5bj25nnsAQ9"
      },
      "outputs": [],
      "source": [
        "import cv2\n",
        "import numpy as np\n",
        "\n",
        "# Load the image\n",
        "img = cv2.imread('granma.jpg')"
      ]
    },
    {
      "cell_type": "code",
      "source": [
        "# Display the image and ask the user to click on the four corners\n",
        "cv2.imshow('Image', img)\n",
        "corners = []\n"
      ],
      "metadata": {
        "id": "8D6loOTrsD0N"
      },
      "execution_count": null,
      "outputs": []
    },
    {
      "cell_type": "code",
      "source": [
        "# Selection function, try to select the image starting from the left up corner\n",
        "# then the left down corner, then the right down corner and last the right up corner\n",
        "# so that the selected image should be selected with the correct coordinates\n",
        "def mouse_callback(event, x, y, flags, param):\n",
        "    if event == cv2.EVENT_LBUTTONUP:\n",
        "        corners.append((x, y))\n",
        "        cv2.imshow('Image', img)\n",
        "cv2.setMouseCallback('Image', mouse_callback)\n",
        "cv2.waitKey(0)"
      ],
      "metadata": {
        "id": "zUw1aF6csGDn"
      },
      "execution_count": null,
      "outputs": []
    },
    {
      "cell_type": "code",
      "source": [
        "# Calculate the projective transformation matrix\n",
        "src_pts = np.float32(corners)\n",
        "dst_pts = np.float32([[0, 0], [999, 0], [999, 999], [0, 999]])"
      ],
      "metadata": {
        "id": "F34dac1FsJkB"
      },
      "execution_count": null,
      "outputs": []
    },
    {
      "cell_type": "code",
      "source": [
        "# Calculate the homography matrix using source and destination points\n",
        "A = []\n",
        "for i in range(4):\n",
        "    x, y = src_pts[i]\n",
        "    u, v = dst_pts[i]\n",
        "    A.append([x, y, 1, 0, 0, 0, -u*x, -u*y, -u])\n",
        "    A.append([0, 0, 0, x, y, 1, -v*x, -v*y, -v])"
      ],
      "metadata": {
        "id": "vDZNMAI0sL2X"
      },
      "execution_count": null,
      "outputs": []
    },
    {
      "cell_type": "code",
      "source": [
        "A = np.asarray(A)\n",
        "homo, _ = cv2.findHomography(src_pts, dst_pts)"
      ],
      "metadata": {
        "id": "SrTdZBFLsONb"
      },
      "execution_count": null,
      "outputs": []
    },
    {
      "cell_type": "code",
      "source": [
        "# Apply the transformation and create a new image of size 1000 × 1000\n",
        "h, w, _ = img.shape\n",
        "transformed = np.zeros((999, 999, 3), dtype=np.uint8)\n",
        "HInv = np.linalg.inv(homo)\n",
        "for y in range(999):\n",
        "    for x in range(999):\n",
        "        p = np.dot(HInv, [x, y, 1])\n",
        "        p = p / p[-1]\n",
        "        u, v = p[:-1]\n",
        "        if 0 <= u < w and 0 <= v < h:\n",
        "            transformed[y, x] = img[int(v), int(u)]"
      ],
      "metadata": {
        "id": "PF9hbJv3sQtN"
      },
      "execution_count": null,
      "outputs": []
    },
    {
      "cell_type": "code",
      "source": [
        "# Apply the transformation and create a new image of size 1000 × 1000\n",
        "transformed = cv2.warpPerspective(img, homo, (999, 999))"
      ],
      "metadata": {
        "id": "H8ECd5Keq7lf"
      },
      "execution_count": null,
      "outputs": []
    },
    {
      "cell_type": "code",
      "source": [
        "# Transpose the image\n",
        "transformed = np.transpose(transformed, (1, 0, 2))"
      ],
      "metadata": {
        "id": "BIykweMAsTYv"
      },
      "execution_count": null,
      "outputs": []
    },
    {
      "cell_type": "code",
      "source": [
        "# Display the final image\n",
        "cv2.imshow('Result', transformed)\n",
        "cv2.waitKey(0)\n",
        "cv2.destroyAllWindows()"
      ],
      "metadata": {
        "id": "cXOU1uTNsbGQ"
      },
      "execution_count": null,
      "outputs": []
    }
  ]
}
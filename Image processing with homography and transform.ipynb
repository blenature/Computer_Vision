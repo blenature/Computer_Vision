{
  "nbformat": 4,
  "nbformat_minor": 0,
  "metadata": {
    "colab": {
      "provenance": [],
      "authorship_tag": "ABX9TyP6Vr/8cdnQSRFstIM2pJjg",
      "include_colab_link": true
    },
    "kernelspec": {
      "name": "python3",
      "display_name": "Python 3"
    },
    "language_info": {
      "name": "python"
    }
  },
  "cells": [
    {
      "cell_type": "markdown",
      "metadata": {
        "id": "view-in-github",
        "colab_type": "text"
      },
      "source": [
        "<a href=\"https://colab.research.google.com/github/blenature/8085simulator.github.io/blob/master/Image%20processing%20with%20homography%20and%20transform.ipynb\" target=\"_parent\"><img src=\"https://colab.research.google.com/assets/colab-badge.svg\" alt=\"Open In Colab\"/></a>"
      ]
    },
    {
      "cell_type": "code",
      "execution_count": null,
      "metadata": {
        "id": "K5bj25nnsAQ9"
      },
      "outputs": [],
      "source": [
        "import cv2\n",
        "import numpy as np\n",
        "\n",
        "# Load the image\n",
        "img = cv2.imread('granma.jpg')"
      ]
    },
    {
      "cell_type": "code",
      "source": [
        "# Display the image and ask the user to click on the four corners\n",
        "cv2.imshow('Image', img)\n",
        "corners = []\n"
      ],
      "metadata": {
        "id": "8D6loOTrsD0N"
      },
      "execution_count": null,
      "outputs": []
    },
    {
      "cell_type": "code",
      "source": [
        "def mouse_callback(event, x, y, flags, param):\n",
        "    if event == cv2.EVENT_LBUTTONUP:\n",
        "        corners.append((x, y))\n",
        "        cv2.circle(img, (x, y), 5, (0, 0, 255), -1)\n",
        "        cv2.imshow('Image', img)\n",
        "\n",
        "cv2.setMouseCallback('Image', mouse_callback)\n",
        "\n",
        "cv2.waitKey(0)"
      ],
      "metadata": {
        "id": "zUw1aF6csGDn"
      },
      "execution_count": null,
      "outputs": []
    },
    {
      "cell_type": "code",
      "source": [
        "# Calculate the projective transformation matrix\n",
        "src_pts = np.float32(corners)\n",
        "dst_pts = np.float32([[0, 0], [1000, 0], [1000, 1000], [0, 1000]])"
      ],
      "metadata": {
        "id": "F34dac1FsJkB"
      },
      "execution_count": null,
      "outputs": []
    },
    {
      "cell_type": "code",
      "source": [
        "# Calculate the homography matrix using source and destination points\n",
        "A = []\n",
        "for i in range(4):\n",
        "    x, y = src_pts[i]\n",
        "    u, v = dst_pts[i]\n",
        "    A.append([x, y, 1, 0, 0, 0, -u*x, -u*y, -u])\n",
        "    A.append([0, 0, 0, x, y, 1, -v*x, -v*y, -v])"
      ],
      "metadata": {
        "id": "vDZNMAI0sL2X"
      },
      "execution_count": null,
      "outputs": []
    },
    {
      "cell_type": "code",
      "source": [
        "A = np.asarray(A)\n",
        "U, S, Vh = np.linalg.svd(A)\n",
        "L = Vh[-1,:] / Vh[-1,-1]\n",
        "H = L.reshape(3, 3)"
      ],
      "metadata": {
        "id": "SrTdZBFLsONb"
      },
      "execution_count": null,
      "outputs": []
    },
    {
      "cell_type": "code",
      "source": [
        "# Apply the transformation and create a new image of size 1000 × 1000\n",
        "h, w, _ = img.shape\n",
        "transformed = np.zeros((1000, 1000, 3), dtype=np.uint8)\n",
        "for y in range(1000):\n",
        "    for x in range(1000):\n",
        "        p = np.dot(np.linalg.inv(H), [x, y, 1])\n",
        "        p = p / p[-1]\n",
        "        u, v = p[:-1]\n",
        "        if 0 <= u < w and 0 <= v < h:\n",
        "            transformed[y, x] = img[int(v), int(u)]"
      ],
      "metadata": {
        "id": "PF9hbJv3sQtN"
      },
      "execution_count": null,
      "outputs": []
    },
    {
      "cell_type": "code",
      "source": [
        "# Transpose the image\n",
        "transformed = np.transpose(transformed, (1, 0, 2))"
      ],
      "metadata": {
        "id": "BIykweMAsTYv"
      },
      "execution_count": null,
      "outputs": []
    },
    {
      "cell_type": "code",
      "source": [
        "# Display the final image\n",
        "cv2.imshow('Result', transformed)\n",
        "cv2.waitKey(0)\n",
        "cv2.destroyAllWindows()"
      ],
      "metadata": {
        "id": "cXOU1uTNsbGQ"
      },
      "execution_count": null,
      "outputs": []
    }
  ]
}